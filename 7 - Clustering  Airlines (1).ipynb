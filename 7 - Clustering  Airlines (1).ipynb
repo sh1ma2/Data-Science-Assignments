{
 "cells": [
  {
   "cell_type": "markdown",
   "id": "9605736e",
   "metadata": {},
   "source": [
    "Import libraries required"
   ]
  },
  {
   "cell_type": "code",
   "execution_count": 1,
   "id": "08ba0fea",
   "metadata": {},
   "outputs": [],
   "source": [
    "import numpy as np\n",
    "import pandas as pd \n",
    "\n",
    "import matplotlib.pyplot as plt\n",
    "import seaborn as sns\n",
    "\n",
    "import warnings\n",
    "warnings.filterwarnings('ignore')"
   ]
  },
  {
   "cell_type": "markdown",
   "id": "660a37cb",
   "metadata": {},
   "source": [
    "Load dataset"
   ]
  },
  {
   "cell_type": "code",
   "execution_count": 3,
   "id": "cf35c8ad",
   "metadata": {},
   "outputs": [
    {
     "data": {
      "text/html": [
       "<div>\n",
       "<style scoped>\n",
       "    .dataframe tbody tr th:only-of-type {\n",
       "        vertical-align: middle;\n",
       "    }\n",
       "\n",
       "    .dataframe tbody tr th {\n",
       "        vertical-align: top;\n",
       "    }\n",
       "\n",
       "    .dataframe thead th {\n",
       "        text-align: right;\n",
       "    }\n",
       "</style>\n",
       "<table border=\"1\" class=\"dataframe\">\n",
       "  <thead>\n",
       "    <tr style=\"text-align: right;\">\n",
       "      <th></th>\n",
       "      <th>ID#</th>\n",
       "      <th>Balance</th>\n",
       "      <th>Qual_miles</th>\n",
       "      <th>cc1_miles</th>\n",
       "      <th>cc2_miles</th>\n",
       "      <th>cc3_miles</th>\n",
       "      <th>Bonus_miles</th>\n",
       "      <th>Bonus_trans</th>\n",
       "      <th>Flight_miles_12mo</th>\n",
       "      <th>Flight_trans_12</th>\n",
       "      <th>Days_since_enroll</th>\n",
       "      <th>Award?</th>\n",
       "    </tr>\n",
       "  </thead>\n",
       "  <tbody>\n",
       "    <tr>\n",
       "      <th>0</th>\n",
       "      <td>1</td>\n",
       "      <td>28143</td>\n",
       "      <td>0</td>\n",
       "      <td>1</td>\n",
       "      <td>1</td>\n",
       "      <td>1</td>\n",
       "      <td>174</td>\n",
       "      <td>1</td>\n",
       "      <td>0</td>\n",
       "      <td>0</td>\n",
       "      <td>7000</td>\n",
       "      <td>0</td>\n",
       "    </tr>\n",
       "    <tr>\n",
       "      <th>1</th>\n",
       "      <td>2</td>\n",
       "      <td>19244</td>\n",
       "      <td>0</td>\n",
       "      <td>1</td>\n",
       "      <td>1</td>\n",
       "      <td>1</td>\n",
       "      <td>215</td>\n",
       "      <td>2</td>\n",
       "      <td>0</td>\n",
       "      <td>0</td>\n",
       "      <td>6968</td>\n",
       "      <td>0</td>\n",
       "    </tr>\n",
       "    <tr>\n",
       "      <th>2</th>\n",
       "      <td>3</td>\n",
       "      <td>41354</td>\n",
       "      <td>0</td>\n",
       "      <td>1</td>\n",
       "      <td>1</td>\n",
       "      <td>1</td>\n",
       "      <td>4123</td>\n",
       "      <td>4</td>\n",
       "      <td>0</td>\n",
       "      <td>0</td>\n",
       "      <td>7034</td>\n",
       "      <td>0</td>\n",
       "    </tr>\n",
       "    <tr>\n",
       "      <th>3</th>\n",
       "      <td>4</td>\n",
       "      <td>14776</td>\n",
       "      <td>0</td>\n",
       "      <td>1</td>\n",
       "      <td>1</td>\n",
       "      <td>1</td>\n",
       "      <td>500</td>\n",
       "      <td>1</td>\n",
       "      <td>0</td>\n",
       "      <td>0</td>\n",
       "      <td>6952</td>\n",
       "      <td>0</td>\n",
       "    </tr>\n",
       "    <tr>\n",
       "      <th>4</th>\n",
       "      <td>5</td>\n",
       "      <td>97752</td>\n",
       "      <td>0</td>\n",
       "      <td>4</td>\n",
       "      <td>1</td>\n",
       "      <td>1</td>\n",
       "      <td>43300</td>\n",
       "      <td>26</td>\n",
       "      <td>2077</td>\n",
       "      <td>4</td>\n",
       "      <td>6935</td>\n",
       "      <td>1</td>\n",
       "    </tr>\n",
       "    <tr>\n",
       "      <th>...</th>\n",
       "      <td>...</td>\n",
       "      <td>...</td>\n",
       "      <td>...</td>\n",
       "      <td>...</td>\n",
       "      <td>...</td>\n",
       "      <td>...</td>\n",
       "      <td>...</td>\n",
       "      <td>...</td>\n",
       "      <td>...</td>\n",
       "      <td>...</td>\n",
       "      <td>...</td>\n",
       "      <td>...</td>\n",
       "    </tr>\n",
       "    <tr>\n",
       "      <th>3994</th>\n",
       "      <td>4017</td>\n",
       "      <td>18476</td>\n",
       "      <td>0</td>\n",
       "      <td>1</td>\n",
       "      <td>1</td>\n",
       "      <td>1</td>\n",
       "      <td>8525</td>\n",
       "      <td>4</td>\n",
       "      <td>200</td>\n",
       "      <td>1</td>\n",
       "      <td>1403</td>\n",
       "      <td>1</td>\n",
       "    </tr>\n",
       "    <tr>\n",
       "      <th>3995</th>\n",
       "      <td>4018</td>\n",
       "      <td>64385</td>\n",
       "      <td>0</td>\n",
       "      <td>1</td>\n",
       "      <td>1</td>\n",
       "      <td>1</td>\n",
       "      <td>981</td>\n",
       "      <td>5</td>\n",
       "      <td>0</td>\n",
       "      <td>0</td>\n",
       "      <td>1395</td>\n",
       "      <td>1</td>\n",
       "    </tr>\n",
       "    <tr>\n",
       "      <th>3996</th>\n",
       "      <td>4019</td>\n",
       "      <td>73597</td>\n",
       "      <td>0</td>\n",
       "      <td>3</td>\n",
       "      <td>1</td>\n",
       "      <td>1</td>\n",
       "      <td>25447</td>\n",
       "      <td>8</td>\n",
       "      <td>0</td>\n",
       "      <td>0</td>\n",
       "      <td>1402</td>\n",
       "      <td>1</td>\n",
       "    </tr>\n",
       "    <tr>\n",
       "      <th>3997</th>\n",
       "      <td>4020</td>\n",
       "      <td>54899</td>\n",
       "      <td>0</td>\n",
       "      <td>1</td>\n",
       "      <td>1</td>\n",
       "      <td>1</td>\n",
       "      <td>500</td>\n",
       "      <td>1</td>\n",
       "      <td>500</td>\n",
       "      <td>1</td>\n",
       "      <td>1401</td>\n",
       "      <td>0</td>\n",
       "    </tr>\n",
       "    <tr>\n",
       "      <th>3998</th>\n",
       "      <td>4021</td>\n",
       "      <td>3016</td>\n",
       "      <td>0</td>\n",
       "      <td>1</td>\n",
       "      <td>1</td>\n",
       "      <td>1</td>\n",
       "      <td>0</td>\n",
       "      <td>0</td>\n",
       "      <td>0</td>\n",
       "      <td>0</td>\n",
       "      <td>1398</td>\n",
       "      <td>0</td>\n",
       "    </tr>\n",
       "  </tbody>\n",
       "</table>\n",
       "<p>3999 rows × 12 columns</p>\n",
       "</div>"
      ],
      "text/plain": [
       "       ID#  Balance  Qual_miles  cc1_miles  cc2_miles  cc3_miles  Bonus_miles  \\\n",
       "0        1    28143           0          1          1          1          174   \n",
       "1        2    19244           0          1          1          1          215   \n",
       "2        3    41354           0          1          1          1         4123   \n",
       "3        4    14776           0          1          1          1          500   \n",
       "4        5    97752           0          4          1          1        43300   \n",
       "...    ...      ...         ...        ...        ...        ...          ...   \n",
       "3994  4017    18476           0          1          1          1         8525   \n",
       "3995  4018    64385           0          1          1          1          981   \n",
       "3996  4019    73597           0          3          1          1        25447   \n",
       "3997  4020    54899           0          1          1          1          500   \n",
       "3998  4021     3016           0          1          1          1            0   \n",
       "\n",
       "      Bonus_trans  Flight_miles_12mo  Flight_trans_12  Days_since_enroll  \\\n",
       "0               1                  0                0               7000   \n",
       "1               2                  0                0               6968   \n",
       "2               4                  0                0               7034   \n",
       "3               1                  0                0               6952   \n",
       "4              26               2077                4               6935   \n",
       "...           ...                ...              ...                ...   \n",
       "3994            4                200                1               1403   \n",
       "3995            5                  0                0               1395   \n",
       "3996            8                  0                0               1402   \n",
       "3997            1                500                1               1401   \n",
       "3998            0                  0                0               1398   \n",
       "\n",
       "      Award?  \n",
       "0          0  \n",
       "1          0  \n",
       "2          0  \n",
       "3          0  \n",
       "4          1  \n",
       "...      ...  \n",
       "3994       1  \n",
       "3995       1  \n",
       "3996       1  \n",
       "3997       0  \n",
       "3998       0  \n",
       "\n",
       "[3999 rows x 12 columns]"
      ]
     },
     "execution_count": 3,
     "metadata": {},
     "output_type": "execute_result"
    }
   ],
   "source": [
    "# Import Dataset\n",
    "airline=pd.read_excel(\"C:/Users/Hp/Downloads/EastWestAirlines.xlsx\",sheet_name='data')\n",
    "airline"
   ]
  },
  {
   "cell_type": "code",
   "execution_count": 5,
   "id": "60bd8f12",
   "metadata": {},
   "outputs": [],
   "source": [
    "# Column rename.\n",
    "\n",
    "airline= airline.rename(columns={'ID#':'ID', 'Award?':'Award'})"
   ]
  },
  {
   "cell_type": "markdown",
   "id": "a46b2933",
   "metadata": {},
   "source": [
    "Data preprocessing"
   ]
  },
  {
   "cell_type": "code",
   "execution_count": 6,
   "id": "fafa1df8",
   "metadata": {},
   "outputs": [
    {
     "data": {
      "text/html": [
       "<div>\n",
       "<style scoped>\n",
       "    .dataframe tbody tr th:only-of-type {\n",
       "        vertical-align: middle;\n",
       "    }\n",
       "\n",
       "    .dataframe tbody tr th {\n",
       "        vertical-align: top;\n",
       "    }\n",
       "\n",
       "    .dataframe thead th {\n",
       "        text-align: right;\n",
       "    }\n",
       "</style>\n",
       "<table border=\"1\" class=\"dataframe\">\n",
       "  <thead>\n",
       "    <tr style=\"text-align: right;\">\n",
       "      <th></th>\n",
       "      <th>Balance</th>\n",
       "      <th>Qual_miles</th>\n",
       "      <th>cc1_miles</th>\n",
       "      <th>cc2_miles</th>\n",
       "      <th>cc3_miles</th>\n",
       "      <th>Bonus_miles</th>\n",
       "      <th>Bonus_trans</th>\n",
       "      <th>Flight_miles_12mo</th>\n",
       "      <th>Flight_trans_12</th>\n",
       "      <th>Days_since_enroll</th>\n",
       "    </tr>\n",
       "  </thead>\n",
       "  <tbody>\n",
       "    <tr>\n",
       "      <th>0</th>\n",
       "      <td>28143</td>\n",
       "      <td>0</td>\n",
       "      <td>1</td>\n",
       "      <td>1</td>\n",
       "      <td>1</td>\n",
       "      <td>174</td>\n",
       "      <td>1</td>\n",
       "      <td>0</td>\n",
       "      <td>0</td>\n",
       "      <td>7000</td>\n",
       "    </tr>\n",
       "    <tr>\n",
       "      <th>1</th>\n",
       "      <td>19244</td>\n",
       "      <td>0</td>\n",
       "      <td>1</td>\n",
       "      <td>1</td>\n",
       "      <td>1</td>\n",
       "      <td>215</td>\n",
       "      <td>2</td>\n",
       "      <td>0</td>\n",
       "      <td>0</td>\n",
       "      <td>6968</td>\n",
       "    </tr>\n",
       "  </tbody>\n",
       "</table>\n",
       "</div>"
      ],
      "text/plain": [
       "   Balance  Qual_miles  cc1_miles  cc2_miles  cc3_miles  Bonus_miles  \\\n",
       "0    28143           0          1          1          1          174   \n",
       "1    19244           0          1          1          1          215   \n",
       "\n",
       "   Bonus_trans  Flight_miles_12mo  Flight_trans_12  Days_since_enroll  \n",
       "0            1                  0                0               7000  \n",
       "1            2                  0                0               6968  "
      ]
     },
     "execution_count": 6,
     "metadata": {},
     "output_type": "execute_result"
    }
   ],
   "source": [
    "# not going to falloe EDA step here since it is already done in link1.(Above cell)\n",
    "# as we know ID & award will not make much contribution during clutering. we will drop both columns.\n",
    "\n",
    "airline1 = airline .drop(['ID','Award'], axis=1)\n",
    "airline1.head(2)"
   ]
  },
  {
   "cell_type": "markdown",
   "id": "2d0c5922",
   "metadata": {},
   "source": [
    "Standardization"
   ]
  },
  {
   "cell_type": "code",
   "execution_count": 7,
   "id": "c679c3b6",
   "metadata": {},
   "outputs": [
    {
     "data": {
      "text/plain": [
       "(3999, 10)"
      ]
     },
     "execution_count": 7,
     "metadata": {},
     "output_type": "execute_result"
    }
   ],
   "source": [
    "from sklearn.preprocessing import StandardScaler\n",
    "\n",
    "std_df = StandardScaler().fit_transform(airline1)      # this will used for kmeans\n",
    "std_df.shape"
   ]
  },
  {
   "cell_type": "markdown",
   "id": "7fe6c08c",
   "metadata": {},
   "source": [
    "MinMaxScalar"
   ]
  },
  {
   "cell_type": "code",
   "execution_count": 8,
   "id": "9dde018f",
   "metadata": {},
   "outputs": [
    {
     "data": {
      "text/plain": [
       "(3999, 10)"
      ]
     },
     "execution_count": 8,
     "metadata": {},
     "output_type": "execute_result"
    }
   ],
   "source": [
    "# Using Minmaxscaler for accuracy result comparison\n",
    "\n",
    "from sklearn.preprocessing import MinMaxScaler\n",
    "minmax = MinMaxScaler()\n",
    "\n",
    "minmax_df = minmax.fit_transform(airline1)\n",
    "minmax_df.shape"
   ]
  },
  {
   "cell_type": "markdown",
   "id": "d56380d2",
   "metadata": {},
   "source": [
    "PCA"
   ]
  },
  {
   "cell_type": "markdown",
   "id": "7a9dc7a0",
   "metadata": {},
   "source": [
    "Running PCA of standardized data."
   ]
  },
  {
   "cell_type": "code",
   "execution_count": 11,
   "id": "88f2a134",
   "metadata": {},
   "outputs": [],
   "source": [
    "# applying PCA on std_df\n",
    "\n",
    "# we are considering 95% variance in n_components to not loose any data.\n",
    "\n",
    "from sklearn.decomposition import PCA\n",
    "pca_std = PCA(random_state=10, n_components=0.95)\n",
    "pca_std_df= pca_std.fit_transform(std_df)"
   ]
  },
  {
   "cell_type": "code",
   "execution_count": 12,
   "id": "4c0de47b",
   "metadata": {},
   "outputs": [
    {
     "name": "stdout",
     "output_type": "stream",
     "text": [
      "[110.44189995  83.11377294  64.82616793  63.48944763  61.96605949\n",
      "  60.17942085  51.82140955  38.09870033]\n"
     ]
    }
   ],
   "source": [
    "# eigenvalues..\n",
    "\n",
    "print(pca_std.singular_values_)"
   ]
  },
  {
   "cell_type": "code",
   "execution_count": 13,
   "id": "700a021b",
   "metadata": {},
   "outputs": [
    {
     "name": "stdout",
     "output_type": "stream",
     "text": [
      "[30.50115845 17.27406665 10.5087073  10.07979485  9.60188179  9.05617078\n",
      "  6.71532505  3.62968484]\n"
     ]
    }
   ],
   "source": [
    "# variance containing in each formed PCA\n",
    "\n",
    "print(pca_std.explained_variance_ratio_*100)"
   ]
  },
  {
   "cell_type": "code",
   "execution_count": 14,
   "id": "b7efc16d",
   "metadata": {},
   "outputs": [
    {
     "data": {
      "text/plain": [
       "array([30.50115845, 47.7752251 , 58.28393239, 68.36372724, 77.96560903,\n",
       "       87.02177981, 93.73710486, 97.3667897 ])"
      ]
     },
     "execution_count": 14,
     "metadata": {},
     "output_type": "execute_result"
    }
   ],
   "source": [
    "# Cummulative variance ratio..\n",
    "\n",
    "# this will give an idea of, at how many no. of PCAs, the cummulative addition of\n",
    "#........variance will give much information..\n",
    "\n",
    "cum_variance = np.cumsum(pca_std.explained_variance_ratio_*100)\n",
    "cum_variance"
   ]
  },
  {
   "cell_type": "markdown",
   "id": "2ef3e986",
   "metadata": {},
   "source": [
    "Conclusion:"
   ]
  },
  {
   "cell_type": "markdown",
   "id": "a8445fc4",
   "metadata": {},
   "source": [
    "By applying PCA on standardized data with 95% variance it gives 8 PCA components."
   ]
  },
  {
   "cell_type": "markdown",
   "id": "660e8d6d",
   "metadata": {},
   "source": [
    "Running PCA of MinMaxscalar data."
   ]
  },
  {
   "cell_type": "code",
   "execution_count": 16,
   "id": "868aa799",
   "metadata": {},
   "outputs": [],
   "source": [
    "# applying PCA on minmax_df\n",
    "\n",
    "from sklearn.decomposition import PCA\n",
    "\n",
    "pca_minmax =  PCA(random_state=10, n_components=0.95)\n",
    "pca_minmax_df = pca_minmax.fit_transform(minmax_df)"
   ]
  },
  {
   "cell_type": "code",
   "execution_count": 17,
   "id": "d4b5d71c",
   "metadata": {},
   "outputs": [
    {
     "name": "stdout",
     "output_type": "stream",
     "text": [
      "[23.30644253 14.98078096  6.73641543  4.71018421  4.35528647]\n"
     ]
    }
   ],
   "source": [
    "# eigenvalues..\n",
    "\n",
    "print(pca_minmax.singular_values_)"
   ]
  },
  {
   "cell_type": "code",
   "execution_count": 18,
   "id": "d8ef27f1",
   "metadata": {},
   "outputs": [
    {
     "name": "stdout",
     "output_type": "stream",
     "text": [
      "[60.47067269 24.98398618  5.05185116  2.46983879  2.11167109]\n"
     ]
    }
   ],
   "source": [
    "# variance containing in each formed PCA\n",
    "\n",
    "print(pca_minmax.explained_variance_ratio_*100)"
   ]
  },
  {
   "cell_type": "markdown",
   "id": "db770fdd",
   "metadata": {},
   "source": [
    "Conclusion:"
   ]
  },
  {
   "cell_type": "markdown",
   "id": "60507dbf",
   "metadata": {},
   "source": [
    "By applying PCA on MinMaxscalr transformation data gives 5 PCA components."
   ]
  },
  {
   "cell_type": "markdown",
   "id": "a8813870",
   "metadata": {},
   "source": [
    "KMeans Clustering."
   ]
  },
  {
   "cell_type": "markdown",
   "id": "5863ec46",
   "metadata": {},
   "source": [
    "How many numbers of cluster. Also deciding which transformation data we will use to build model."
   ]
  },
  {
   "cell_type": "code",
   "execution_count": 19,
   "id": "1345acf0",
   "metadata": {},
   "outputs": [],
   "source": [
    "from sklearn.cluster import KMeans"
   ]
  },
  {
   "cell_type": "code",
   "execution_count": 20,
   "id": "c6dee2d0",
   "metadata": {},
   "outputs": [
    {
     "name": "stdout",
     "output_type": "stream",
     "text": [
      "For n_clusters = 2 The average silhouette_score is : 0.3639788167896175\n",
      "For n_clusters = 3 The average silhouette_score is : 0.335800689368627\n",
      "For n_clusters = 4 The average silhouette_score is : 0.33811895596476305\n",
      "For n_clusters = 5 The average silhouette_score is : 0.354575129869185\n",
      "For n_clusters = 6 The average silhouette_score is : 0.3662869252330996\n",
      "For n_clusters = 7 The average silhouette_score is : 0.2681253435179658\n",
      "For n_clusters = 8 The average silhouette_score is : 0.2733658800277117\n",
      "For n_clusters = 9 The average silhouette_score is : 0.29020780384748357\n"
     ]
    }
   ],
   "source": [
    "from sklearn.metrics import silhouette_score\n",
    "\n",
    "list1= [2,3,4,5,6,7,8,9]  # always start number from 2.\n",
    "\n",
    "for n_clusters in list1:\n",
    "    clusterer1 = KMeans(n_clusters=n_clusters, random_state=0,n_jobs=-1)\n",
    "    cluster_labels1 = clusterer1.fit_predict(pca_std_df)\n",
    "    sil_score1= silhouette_score(pca_std_df, cluster_labels1)\n",
    "    print(\"For n_clusters =\", n_clusters,\"The average silhouette_score is :\", sil_score1)"
   ]
  },
  {
   "cell_type": "markdown",
   "id": "12c7719a",
   "metadata": {},
   "source": [
    "Conclusion By taking standardize data pca it gives number of cluster =6 with silhoette score = 0.36"
   ]
  },
  {
   "cell_type": "code",
   "execution_count": 21,
   "id": "f718a748",
   "metadata": {},
   "outputs": [
    {
     "name": "stdout",
     "output_type": "stream",
     "text": [
      "For n_clusters = 2 The average silhouette_score is : 0.15898102441788228\n",
      "For n_clusters = 3 The average silhouette_score is : 0.15898102441788228\n",
      "For n_clusters = 4 The average silhouette_score is : 0.15898102441788228\n",
      "For n_clusters = 5 The average silhouette_score is : 0.15898102441788228\n",
      "For n_clusters = 6 The average silhouette_score is : 0.15898102441788228\n",
      "For n_clusters = 7 The average silhouette_score is : 0.15898102441788228\n",
      "For n_clusters = 8 The average silhouette_score is : 0.15898102441788228\n",
      "For n_clusters = 9 The average silhouette_score is : 0.15898102441788228\n"
     ]
    }
   ],
   "source": [
    "from sklearn.metrics import silhouette_score\n",
    "\n",
    "list1= [2,3,4,5,6,7,8,9]  # always start number from 2.\n",
    "\n",
    "for n_clusters in list1:\n",
    "    clusterer2 = KMeans(n_clusters=n_clusters, random_state=0,n_jobs=-1)\n",
    "    cluster_labels2 = clusterer1.fit_predict(pca_minmax_df)\n",
    "    sil_score2= silhouette_score(pca_std_df, cluster_labels2)\n",
    "    print(\"For n_clusters =\", n_clusters,\"The average silhouette_score is :\", sil_score2)"
   ]
  },
  {
   "cell_type": "markdown",
   "id": "a6732dd4",
   "metadata": {},
   "source": [
    "Conclusion: By taking pca_minmax_df data it gives minimum number of cluster =4 with silhoette score = 0.1589"
   ]
  },
  {
   "cell_type": "markdown",
   "id": "e3f40526",
   "metadata": {},
   "source": [
    "Run K-Means"
   ]
  },
  {
   "cell_type": "code",
   "execution_count": 22,
   "id": "1e370555",
   "metadata": {},
   "outputs": [
    {
     "data": {
      "text/plain": [
       "(3999,)"
      ]
     },
     "execution_count": 22,
     "metadata": {},
     "output_type": "execute_result"
    }
   ],
   "source": [
    "# we have found good number of cluster = 6\n",
    "# model building using cluster numbers = 6\n",
    "\n",
    "model1 = KMeans(n_clusters=6, random_state=0,n_jobs=-1)\n",
    "y_predict1 = model1.fit_predict(pca_std_df)\n",
    "y_predict1.shape"
   ]
  },
  {
   "cell_type": "code",
   "execution_count": 23,
   "id": "bba30f8d",
   "metadata": {},
   "outputs": [
    {
     "data": {
      "text/plain": [
       "array([1, 1, 1, ..., 1, 1, 1])"
      ]
     },
     "execution_count": 23,
     "metadata": {},
     "output_type": "execute_result"
    }
   ],
   "source": [
    "# these are nothing but cluster labels...\n",
    "\n",
    "y_predict1"
   ]
  },
  {
   "cell_type": "code",
   "execution_count": 24,
   "id": "5203776f",
   "metadata": {},
   "outputs": [
    {
     "data": {
      "text/plain": [
       "array([1, 1, 1, ..., 1, 1, 1])"
      ]
     },
     "execution_count": 24,
     "metadata": {},
     "output_type": "execute_result"
    }
   ],
   "source": [
    "# y_predict & cluster labels both are same use any one of them to avoid further confusion.\n",
    "\n",
    "model1.labels_"
   ]
  },
  {
   "cell_type": "code",
   "execution_count": 25,
   "id": "dca8e20e",
   "metadata": {},
   "outputs": [
    {
     "data": {
      "text/plain": [
       "array([[ 1.00930830e+00,  1.64553073e+00, -3.00204858e+00,\n",
       "        -1.50525621e+00,  4.87613963e+00, -2.83327858e+00,\n",
       "        -8.15524057e-01, -2.42368955e-02],\n",
       "       [-1.04312258e+00,  2.60937871e-01, -1.57354688e-02,\n",
       "        -8.62930270e-02, -5.29463412e-02,  1.40872802e-01,\n",
       "         5.55074837e-02,  9.04844177e-04],\n",
       "       [ 4.35245436e+00, -3.63296061e+00,  8.67825558e+00,\n",
       "        -7.27101378e+00,  7.22379804e+00,  6.82996771e+00,\n",
       "         1.09780252e-01, -3.57742407e-01],\n",
       "       [ 1.39804051e+00, -1.00275351e+00, -7.94776789e-02,\n",
       "         9.64914049e-02, -2.55443434e-01, -2.46040607e-01,\n",
       "        -6.93666285e-02, -2.00121569e-02],\n",
       "       [ 4.25165028e+00,  4.10908160e+00,  1.48662899e-01,\n",
       "        -2.15415252e-01, -6.18448771e-01,  4.99526780e-01,\n",
       "        -5.24799096e-02,  1.44221559e-01],\n",
       "       [ 4.76675141e-02,  1.06794180e+00,  3.90187367e+00,\n",
       "         7.28531492e+00,  3.55053601e+00, -6.82561937e-01,\n",
       "         2.01781543e-01,  2.39276034e-01]])"
      ]
     },
     "execution_count": 25,
     "metadata": {},
     "output_type": "execute_result"
    }
   ],
   "source": [
    "# cluster centres associated with each lables\n",
    "\n",
    "model1.cluster_centers_"
   ]
  },
  {
   "cell_type": "code",
   "execution_count": 26,
   "id": "b9b3f01c",
   "metadata": {},
   "outputs": [
    {
     "data": {
      "text/plain": [
       "16718.17004337416"
      ]
     },
     "execution_count": 26,
     "metadata": {},
     "output_type": "execute_result"
    }
   ],
   "source": [
    "# within-cluster sum of squared\n",
    "\n",
    "# The lower values of inertia are better and zero is optimal.\n",
    "# Inertia is the sum of squared error for each cluster. \n",
    "# Therefore the smaller the inertia the denser the cluster(closer together all the points are)\n",
    "\n",
    "model1.inertia_"
   ]
  },
  {
   "cell_type": "code",
   "execution_count": 27,
   "id": "30b4766b",
   "metadata": {},
   "outputs": [
    {
     "data": {
      "text/plain": [
       "-16718.17004337416"
      ]
     },
     "execution_count": 27,
     "metadata": {},
     "output_type": "execute_result"
    }
   ],
   "source": [
    "model1.score(pca_std_df) \n",
    "\n",
    "# it is opposite value of sum of squared value..avoid to use it. It is bit confusing"
   ]
  },
  {
   "cell_type": "code",
   "execution_count": 28,
   "id": "25c791be",
   "metadata": {},
   "outputs": [
    {
     "data": {
      "text/plain": [
       "{'algorithm': 'auto',\n",
       " 'copy_x': True,\n",
       " 'init': 'k-means++',\n",
       " 'max_iter': 300,\n",
       " 'n_clusters': 6,\n",
       " 'n_init': 10,\n",
       " 'n_jobs': -1,\n",
       " 'precompute_distances': 'deprecated',\n",
       " 'random_state': 0,\n",
       " 'tol': 0.0001,\n",
       " 'verbose': 0}"
      ]
     },
     "execution_count": 28,
     "metadata": {},
     "output_type": "execute_result"
    }
   ],
   "source": [
    "# this will give what hyper parameter is used in model.\n",
    "\n",
    "\n",
    "model1.get_params()"
   ]
  },
  {
   "cell_type": "markdown",
   "id": "a233aaba",
   "metadata": {},
   "source": [
    "Hierarchical Clustering Algorithm"
   ]
  },
  {
   "cell_type": "markdown",
   "id": "b24f67c3",
   "metadata": {},
   "source": [
    "How many numbers of cluster. Also deciding which transformation data we will use to build model."
   ]
  },
  {
   "cell_type": "code",
   "execution_count": 30,
   "id": "52987fd1",
   "metadata": {},
   "outputs": [
    {
     "name": "stdout",
     "output_type": "stream",
     "text": [
      "For n_clusters = 2 The average silhouette_score with linkage- ward : 0.3139605594950567\n",
      "For n_clusters = 2 The average silhouette_score with linkage- complete : 0.8258402005485834\n",
      "For n_clusters = 2 The average silhouette_score with linkage- average : 0.8258402005485834\n",
      "For n_clusters = 2 The average silhouette_score with linkage- single : 0.7595573832017467\n",
      "\n",
      "For n_clusters = 3 The average silhouette_score with linkage- ward : 0.3099513555846737\n",
      "For n_clusters = 3 The average silhouette_score with linkage- complete : 0.7965798717740988\n",
      "For n_clusters = 3 The average silhouette_score with linkage- average : 0.7965798717740988\n",
      "For n_clusters = 3 The average silhouette_score with linkage- single : 0.7592925058168969\n",
      "\n",
      "For n_clusters = 4 The average silhouette_score with linkage- ward : 0.3282481973781311\n",
      "For n_clusters = 4 The average silhouette_score with linkage- complete : 0.6569044547102614\n",
      "For n_clusters = 4 The average silhouette_score with linkage- average : 0.6940154925011895\n",
      "For n_clusters = 4 The average silhouette_score with linkage- single : 0.5782302910327526\n",
      "\n",
      "For n_clusters = 5 The average silhouette_score with linkage- ward : 0.32184976822477973\n",
      "For n_clusters = 5 The average silhouette_score with linkage- complete : 0.5895211202883035\n",
      "For n_clusters = 5 The average silhouette_score with linkage- average : 0.6680397435345209\n",
      "For n_clusters = 5 The average silhouette_score with linkage- single : 0.5780925797482985\n",
      "\n",
      "For n_clusters = 6 The average silhouette_score with linkage- ward : 0.3365729455802159\n",
      "For n_clusters = 6 The average silhouette_score with linkage- complete : 0.6017997132632825\n",
      "For n_clusters = 6 The average silhouette_score with linkage- average : 0.6552479417757123\n",
      "For n_clusters = 6 The average silhouette_score with linkage- single : 0.5766100945284394\n",
      "\n",
      "For n_clusters = 7 The average silhouette_score with linkage- ward : 0.23686100392100004\n",
      "For n_clusters = 7 The average silhouette_score with linkage- complete : 0.6070381387662968\n",
      "For n_clusters = 7 The average silhouette_score with linkage- average : 0.6523313170802647\n",
      "For n_clusters = 7 The average silhouette_score with linkage- single : 0.5774252640782928\n",
      "\n",
      "For n_clusters = 8 The average silhouette_score with linkage- ward : 0.23276462445078655\n",
      "For n_clusters = 8 The average silhouette_score with linkage- complete : 0.6026762863226718\n",
      "For n_clusters = 8 The average silhouette_score with linkage- average : 0.6481701789160177\n",
      "For n_clusters = 8 The average silhouette_score with linkage- single : 0.5741494479569037\n",
      "\n"
     ]
    }
   ],
   "source": [
    "from sklearn.cluster import AgglomerativeClustering\n",
    "n_clusters = [2,3,4,5,6,7,8]  # always start number from 2.\n",
    "\n",
    "for n_clusters in n_clusters:\n",
    "    for linkages in [\"ward\", \"complete\", \"average\", \"single\"]:\n",
    "        hie_cluster1 = AgglomerativeClustering(n_clusters=n_clusters,linkage=linkages) # bydefault it takes linkage 'ward'\n",
    "        hie_labels1 = hie_cluster1.fit_predict(pca_std_df)\n",
    "        silhouette_score1 = silhouette_score(pca_std_df, hie_labels1)\n",
    "        print(\"For n_clusters =\", n_clusters,\"The average silhouette_score with linkage-\",linkages, ':',silhouette_score1)\n",
    "    print()"
   ]
  },
  {
   "cell_type": "markdown",
   "id": "20b233cf",
   "metadata": {},
   "source": [
    "Conclusion: Although max score is with cluster numbers 4. I have selected tcluster number = 5"
   ]
  },
  {
   "cell_type": "markdown",
   "id": "2732666a",
   "metadata": {},
   "source": [
    "Taking MinMax transformation data & PCA applied on it."
   ]
  },
  {
   "cell_type": "code",
   "execution_count": 31,
   "id": "7e2c33c4",
   "metadata": {},
   "outputs": [
    {
     "name": "stdout",
     "output_type": "stream",
     "text": [
      "For n_clusters = 2 The average silhouette_score with linkage- ward : 0.4526351664478745\n",
      "For n_clusters = 2 The average silhouette_score with linkage- complete : 0.585780896047594\n",
      "For n_clusters = 2 The average silhouette_score with linkage- average : 0.5003973034034863\n",
      "For n_clusters = 2 The average silhouette_score with linkage- single : 0.6061073734453644\n",
      "\n",
      "For n_clusters = 3 The average silhouette_score with linkage- ward : 0.3739125364654646\n",
      "For n_clusters = 3 The average silhouette_score with linkage- complete : 0.4542833655116026\n",
      "For n_clusters = 3 The average silhouette_score with linkage- average : 0.4506426101878887\n",
      "For n_clusters = 3 The average silhouette_score with linkage- single : 0.5029366855064075\n",
      "\n",
      "For n_clusters = 4 The average silhouette_score with linkage- ward : 0.36547786997315546\n",
      "For n_clusters = 4 The average silhouette_score with linkage- complete : 0.45615471007123665\n",
      "For n_clusters = 4 The average silhouette_score with linkage- average : 0.3946568858456752\n",
      "For n_clusters = 4 The average silhouette_score with linkage- single : 0.28360363211949047\n",
      "\n",
      "For n_clusters = 5 The average silhouette_score with linkage- ward : 0.35810848980312027\n",
      "For n_clusters = 5 The average silhouette_score with linkage- complete : 0.440805402698052\n",
      "For n_clusters = 5 The average silhouette_score with linkage- average : 0.34750893605764976\n",
      "For n_clusters = 5 The average silhouette_score with linkage- single : 0.2809218844813487\n",
      "\n",
      "For n_clusters = 6 The average silhouette_score with linkage- ward : 0.3713800645711787\n",
      "For n_clusters = 6 The average silhouette_score with linkage- complete : 0.3857227349448689\n",
      "For n_clusters = 6 The average silhouette_score with linkage- average : 0.2766820814868126\n",
      "For n_clusters = 6 The average silhouette_score with linkage- single : 0.1251952683330897\n",
      "\n",
      "For n_clusters = 7 The average silhouette_score with linkage- ward : 0.3533060073536759\n",
      "For n_clusters = 7 The average silhouette_score with linkage- complete : 0.3604618081021531\n",
      "For n_clusters = 7 The average silhouette_score with linkage- average : 0.2513082102310625\n",
      "For n_clusters = 7 The average silhouette_score with linkage- single : 0.12556369270216153\n",
      "\n",
      "For n_clusters = 8 The average silhouette_score with linkage- ward : 0.3552135619542657\n",
      "For n_clusters = 8 The average silhouette_score with linkage- complete : 0.3665436590430836\n",
      "For n_clusters = 8 The average silhouette_score with linkage- average : 0.417040163790949\n",
      "For n_clusters = 8 The average silhouette_score with linkage- single : 0.12375399619447824\n",
      "\n"
     ]
    }
   ],
   "source": [
    "from sklearn.cluster import AgglomerativeClustering\n",
    "n_clusters = [2,3,4,5,6,7,8]  # always start number from 2.\n",
    "\n",
    "for n_clusters in n_clusters:\n",
    "    for linkages in [\"ward\", \"complete\", \"average\", \"single\"]:\n",
    "        hie_cluster2 = AgglomerativeClustering(n_clusters=n_clusters,linkage=linkages) # bydefault it takes linkage 'ward'\n",
    "        hie_labels2 = hie_cluster2.fit_predict(pca_minmax_df)\n",
    "        silhouette_score2 = silhouette_score(pca_minmax_df, hie_labels2)\n",
    "        print(\"For n_clusters =\", n_clusters,\"The average silhouette_score with linkage-\",linkages, ':',silhouette_score2)\n",
    "    print()"
   ]
  },
  {
   "cell_type": "markdown",
   "id": "092416a2",
   "metadata": {},
   "source": [
    "Conclusion: dataset with MinMax transformation & PCA applied on it doesn't imporoved score here. So i am taking previous cell code conclusion."
   ]
  },
  {
   "cell_type": "markdown",
   "id": "c39da1c6",
   "metadata": {},
   "source": [
    "Run Hierarchical Clustering.(Agglomerative Clustering)"
   ]
  },
  {
   "cell_type": "code",
   "execution_count": 32,
   "id": "2bc6c25c",
   "metadata": {},
   "outputs": [
    {
     "name": "stdout",
     "output_type": "stream",
     "text": [
      "(3999,)\n"
     ]
    },
    {
     "data": {
      "text/plain": [
       "array([0, 0, 0, ..., 0, 0, 0], dtype=int64)"
      ]
     },
     "execution_count": 32,
     "metadata": {},
     "output_type": "execute_result"
    }
   ],
   "source": [
    "agg_clustering = AgglomerativeClustering(n_clusters=5, linkage='average')\n",
    "y_pred_hie = agg_clustering.fit_predict(pca_std_df)\n",
    "print(y_pred_hie.shape)\n",
    "y_pred_hie"
   ]
  },
  {
   "cell_type": "code",
   "execution_count": 33,
   "id": "6204b77d",
   "metadata": {},
   "outputs": [
    {
     "data": {
      "text/plain": [
       "5"
      ]
     },
     "execution_count": 33,
     "metadata": {},
     "output_type": "execute_result"
    }
   ],
   "source": [
    "# Cluster numbers\n",
    "\n",
    "agg_clustering.n_clusters_"
   ]
  },
  {
   "cell_type": "code",
   "execution_count": 34,
   "id": "375dbbf9",
   "metadata": {},
   "outputs": [
    {
     "data": {
      "text/plain": [
       "array([0, 0, 0, ..., 0, 0, 0], dtype=int64)"
      ]
     },
     "execution_count": 34,
     "metadata": {},
     "output_type": "execute_result"
    }
   ],
   "source": [
    "# cluster labels for each point\n",
    "\n",
    "agg_clustering.labels_"
   ]
  },
  {
   "cell_type": "code",
   "execution_count": 35,
   "id": "626978b3",
   "metadata": {},
   "outputs": [
    {
     "data": {
      "text/plain": [
       "3999"
      ]
     },
     "execution_count": 35,
     "metadata": {},
     "output_type": "execute_result"
    }
   ],
   "source": [
    "# Number of leaves in the hierarchical tree.\n",
    "\n",
    "agg_clustering.n_leaves_"
   ]
  },
  {
   "cell_type": "code",
   "execution_count": 36,
   "id": "04037139",
   "metadata": {},
   "outputs": [
    {
     "data": {
      "text/plain": [
       "array([[3370, 3876],\n",
       "       [1826, 2121],\n",
       "       [2678, 2679],\n",
       "       ...,\n",
       "       [7991, 7993],\n",
       "       [7986, 7994],\n",
       "       [7988, 7995]])"
      ]
     },
     "execution_count": 36,
     "metadata": {},
     "output_type": "execute_result"
    }
   ],
   "source": [
    "# The children of each non-leaf node. Values less than n_samples correspond to leaves of \n",
    "#......the tree which are the original samples. A node i greater than or equal to n_samples \n",
    "#.........is a non-leaf node and has children children_[i - n_samples]. Alternatively at the \n",
    "#...........i-th iteration, children[i][0] and children[i][1] are merged to form node n_samples + i\n",
    "\n",
    "agg_clustering.children_"
   ]
  },
  {
   "cell_type": "code",
   "execution_count": 37,
   "id": "b28f48b4",
   "metadata": {},
   "outputs": [
    {
     "data": {
      "text/plain": [
       "66.804"
      ]
     },
     "execution_count": 37,
     "metadata": {},
     "output_type": "execute_result"
    }
   ],
   "source": [
    "# Clustering Score\n",
    "\n",
    "(silhouette_score(pca_std_df, agg_clustering.labels_)*100).round(3)"
   ]
  },
  {
   "cell_type": "code",
   "execution_count": 38,
   "id": "cc75c270",
   "metadata": {},
   "outputs": [
    {
     "data": {
      "image/png": "[encoded data removed]",
      "text/plain": [
       "<Figure size 1440x432 with 1 Axes>"
      ]
     },
     "metadata": {
      "needs_background": "light"
     },
     "output_type": "display_data"
    }
   ],
   "source": [
    "# Plotting Dendrogram.\n",
    "\n",
    "import scipy.cluster.hierarchy as shc\n",
    "for methods in ['average']: \n",
    "    plt.figure(figsize =(20, 6)) \n",
    "    \n",
    "    dict = {'fontsize':24,'fontweight' :16, 'color' : 'blue'}\n",
    "    \n",
    "    plt.title('Visualising the data, Method- {}'.format(methods),fontdict = dict) \n",
    "    Dendrogram2 = shc.dendrogram(shc.linkage(pca_std_df, method = methods,optimal_ordering=False))"
   ]
  },
  {
   "cell_type": "code",
   "execution_count": 39,
   "id": "a6096a29",
   "metadata": {},
   "outputs": [],
   "source": [
    "# Creating dataframe of cluster lables..\n",
    "\n",
    "hie_cluster = pd.DataFrame(agg_clustering.labels_.copy(), columns=['Hie_Clustering'])"
   ]
  },
  {
   "cell_type": "code",
   "execution_count": 40,
   "id": "060d6ca9",
   "metadata": {},
   "outputs": [
    {
     "data": {
      "text/html": [
       "<div>\n",
       "<style scoped>\n",
       "    .dataframe tbody tr th:only-of-type {\n",
       "        vertical-align: middle;\n",
       "    }\n",
       "\n",
       "    .dataframe tbody tr th {\n",
       "        vertical-align: top;\n",
       "    }\n",
       "\n",
       "    .dataframe thead th {\n",
       "        text-align: right;\n",
       "    }\n",
       "</style>\n",
       "<table border=\"1\" class=\"dataframe\">\n",
       "  <thead>\n",
       "    <tr style=\"text-align: right;\">\n",
       "      <th></th>\n",
       "      <th>ID</th>\n",
       "      <th>Balance</th>\n",
       "      <th>Qual_miles</th>\n",
       "      <th>cc1_miles</th>\n",
       "      <th>cc2_miles</th>\n",
       "      <th>cc3_miles</th>\n",
       "      <th>Bonus_miles</th>\n",
       "      <th>Bonus_trans</th>\n",
       "      <th>Flight_miles_12mo</th>\n",
       "      <th>Flight_trans_12</th>\n",
       "      <th>Days_since_enroll</th>\n",
       "      <th>Award</th>\n",
       "      <th>Hie_Clustering</th>\n",
       "    </tr>\n",
       "  </thead>\n",
       "  <tbody>\n",
       "    <tr>\n",
       "      <th>0</th>\n",
       "      <td>1</td>\n",
       "      <td>28143</td>\n",
       "      <td>0</td>\n",
       "      <td>1</td>\n",
       "      <td>1</td>\n",
       "      <td>1</td>\n",
       "      <td>174</td>\n",
       "      <td>1</td>\n",
       "      <td>0</td>\n",
       "      <td>0</td>\n",
       "      <td>7000</td>\n",
       "      <td>0</td>\n",
       "      <td>0</td>\n",
       "    </tr>\n",
       "    <tr>\n",
       "      <th>1</th>\n",
       "      <td>2</td>\n",
       "      <td>19244</td>\n",
       "      <td>0</td>\n",
       "      <td>1</td>\n",
       "      <td>1</td>\n",
       "      <td>1</td>\n",
       "      <td>215</td>\n",
       "      <td>2</td>\n",
       "      <td>0</td>\n",
       "      <td>0</td>\n",
       "      <td>6968</td>\n",
       "      <td>0</td>\n",
       "      <td>0</td>\n",
       "    </tr>\n",
       "    <tr>\n",
       "      <th>2</th>\n",
       "      <td>3</td>\n",
       "      <td>41354</td>\n",
       "      <td>0</td>\n",
       "      <td>1</td>\n",
       "      <td>1</td>\n",
       "      <td>1</td>\n",
       "      <td>4123</td>\n",
       "      <td>4</td>\n",
       "      <td>0</td>\n",
       "      <td>0</td>\n",
       "      <td>7034</td>\n",
       "      <td>0</td>\n",
       "      <td>0</td>\n",
       "    </tr>\n",
       "    <tr>\n",
       "      <th>3</th>\n",
       "      <td>4</td>\n",
       "      <td>14776</td>\n",
       "      <td>0</td>\n",
       "      <td>1</td>\n",
       "      <td>1</td>\n",
       "      <td>1</td>\n",
       "      <td>500</td>\n",
       "      <td>1</td>\n",
       "      <td>0</td>\n",
       "      <td>0</td>\n",
       "      <td>6952</td>\n",
       "      <td>0</td>\n",
       "      <td>0</td>\n",
       "    </tr>\n",
       "    <tr>\n",
       "      <th>4</th>\n",
       "      <td>5</td>\n",
       "      <td>97752</td>\n",
       "      <td>0</td>\n",
       "      <td>4</td>\n",
       "      <td>1</td>\n",
       "      <td>1</td>\n",
       "      <td>43300</td>\n",
       "      <td>26</td>\n",
       "      <td>2077</td>\n",
       "      <td>4</td>\n",
       "      <td>6935</td>\n",
       "      <td>1</td>\n",
       "      <td>0</td>\n",
       "    </tr>\n",
       "  </tbody>\n",
       "</table>\n",
       "</div>"
      ],
      "text/plain": [
       "   ID  Balance  Qual_miles  cc1_miles  cc2_miles  cc3_miles  Bonus_miles  \\\n",
       "0   1    28143           0          1          1          1          174   \n",
       "1   2    19244           0          1          1          1          215   \n",
       "2   3    41354           0          1          1          1         4123   \n",
       "3   4    14776           0          1          1          1          500   \n",
       "4   5    97752           0          4          1          1        43300   \n",
       "\n",
       "   Bonus_trans  Flight_miles_12mo  Flight_trans_12  Days_since_enroll  Award  \\\n",
       "0            1                  0                0               7000      0   \n",
       "1            2                  0                0               6968      0   \n",
       "2            4                  0                0               7034      0   \n",
       "3            1                  0                0               6952      0   \n",
       "4           26               2077                4               6935      1   \n",
       "\n",
       "   Hie_Clustering  \n",
       "0               0  \n",
       "1               0  \n",
       "2               0  \n",
       "3               0  \n",
       "4               0  "
      ]
     },
     "execution_count": 40,
     "metadata": {},
     "output_type": "execute_result"
    }
   ],
   "source": [
    "# Concating model1_Cluster df with main dataset copy\n",
    "\n",
    "hie_df = pd.concat([airline.copy(), hie_cluster], axis=1)\n",
    "hie_df .head()"
   ]
  },
  {
   "cell_type": "code",
   "execution_count": 41,
   "id": "f4c2502e",
   "metadata": {},
   "outputs": [
    {
     "data": {
      "image/png": "[encoded data removed]",
      "text/plain": [
       "<Figure size 720x432 with 1 Axes>"
      ]
     },
     "metadata": {
      "needs_background": "light"
     },
     "output_type": "display_data"
    }
   ],
   "source": [
    "# Plotting barplot using groupby method to get visualize how many row no. in each cluster\n",
    "\n",
    "fig, ax = plt.subplots(figsize=(10, 6))\n",
    "hie_df.groupby(['Hie_Clustering']).count()['ID'].plot(kind='bar')\n",
    "plt.ylabel('ID Counts')\n",
    "plt.title('Hierarchical Clustering (pca_std_df)',fontsize='large',fontweight='bold')\n",
    "ax.set_xlabel('Clusters', fontsize='large', fontweight='bold')\n",
    "ax.set_ylabel('ID counts', fontsize='large', fontweight='bold')\n",
    "plt.yticks(fontsize=15)\n",
    "plt.xticks(fontsize=15)\n",
    "plt.show()"
   ]
  },
  {
   "cell_type": "markdown",
   "id": "00b624ae",
   "metadata": {},
   "source": [
    "Conclusion: We will go with Kmeans Clustering Since in hierarchiacl clustering all data is gatherd in one cluster only."
   ]
  },
  {
   "cell_type": "code",
   "execution_count": null,
   "id": "388f4947",
   "metadata": {},
   "outputs": [],
   "source": []
  }
 ],
 "metadata": {
  "kernelspec": {
   "display_name": "Python 3 (ipykernel)",
   "language": "python",
   "name": "python3"
  },
  "language_info": {
   "codemirror_mode": {
    "name": "ipython",
    "version": 3
   },
   "file_extension": ".py",
   "mimetype": "text/x-python",
   "name": "python",
   "nbconvert_exporter": "python",
   "pygments_lexer": "ipython3",
   "version": "3.9.7"
  }
 },
 "nbformat": 4,
 "nbformat_minor": 5
}
